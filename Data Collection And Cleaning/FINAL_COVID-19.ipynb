{
 "cells": [
  {
   "cell_type": "code",
   "execution_count": 1,
   "id": "8943345d",
   "metadata": {},
   "outputs": [],
   "source": [
    "from IPython.core.interactiveshell import InteractiveShell\n",
    "InteractiveShell.ast_node_interactivity = \"all\""
   ]
  },
  {
   "cell_type": "code",
   "execution_count": 2,
   "id": "090e9b4e",
   "metadata": {},
   "outputs": [],
   "source": [
    "import requests\n",
    "import pandas as pd\n",
    "import numpy as np"
   ]
  },
  {
   "cell_type": "markdown",
   "id": "86dcaabc-140d-4e8f-bd11-d7459e379f92",
   "metadata": {},
   "source": [
    "**<h2>States Mapping</h2>**"
   ]
  },
  {
   "cell_type": "code",
   "execution_count": 3,
   "id": "641ce549-5952-4858-85fa-a2e3af52acfd",
   "metadata": {},
   "outputs": [],
   "source": [
    "# states full names\n",
    "\n",
    "state_name_dict = {'AP': 'Andhra Pradesh',\n",
    " 'AR': 'Arunachal Pradesh',\n",
    " 'AS': 'Assam',\n",
    " 'BR': 'Bihar',\n",
    " 'CT': 'Chhattisgarh',\n",
    " 'GA': 'Goa',\n",
    " 'GJ': 'Gujarat',\n",
    " 'HR': 'Haryana',\n",
    " 'HP': 'Himachal Pradesh',\n",
    " 'JH': 'Jharkhand',\n",
    " 'KA': 'Karnataka',\n",
    " 'KL': 'Kerala',\n",
    " 'MP': 'Madhya Pradesh',\n",
    " 'MH': 'Maharashtra',\n",
    " 'MN': 'Manipur',\n",
    " 'ML': 'Meghalaya',\n",
    " 'MZ': 'Mizoram',\n",
    " 'NL': 'Nagaland',\n",
    " 'OR': 'Odisha',\n",
    " 'PB': 'Punjab',\n",
    " 'RJ': 'Rajasthan',\n",
    " 'SK': 'Sikkim',\n",
    " 'TN': 'Tamil Nadu',\n",
    " 'TG': 'Telangana',\n",
    " 'TR': 'Tripura',\n",
    " 'UP': 'Uttar Pradesh',\n",
    " 'UT': 'Uttarakhand',\n",
    " 'WB': 'West Bengal',\n",
    " 'AN': 'Andaman and Nicobar Islands',\n",
    " 'CH': 'Chandigarh',\n",
    " 'DN': 'Dadra and Nagar Haveli and Daman and Diu',\n",
    " 'DL': 'Delhi',\n",
    " 'JK': 'Jammu and Kashmir',\n",
    " 'LA': 'Ladakh',\n",
    " 'LD': 'Lakshadweep',\n",
    " 'PY': 'Puducherry'}"
   ]
  },
  {
   "cell_type": "code",
   "execution_count": 4,
   "id": "132bab6b",
   "metadata": {},
   "outputs": [
    {
     "data": {
      "text/plain": [
       "36"
      ]
     },
     "execution_count": 4,
     "metadata": {},
     "output_type": "execute_result"
    }
   ],
   "source": [
    "len(state_name_dict)"
   ]
  },
  {
   "cell_type": "markdown",
   "id": "cfaeff71",
   "metadata": {},
   "source": [
    "- Fetching DATA (data.min.json)"
   ]
  },
  {
   "cell_type": "code",
   "execution_count": 5,
   "id": "60cc31c0-bbae-4a6e-a422-73020da62d85",
   "metadata": {},
   "outputs": [],
   "source": [
    "data_min = requests.get('https://data.covid19india.org/v4/min/data.min.json')"
   ]
  },
  {
   "cell_type": "code",
   "execution_count": 6,
   "id": "7bd71f0d-3bec-4d70-be60-d0603d7baba6",
   "metadata": {},
   "outputs": [
    {
     "data": {
      "text/plain": [
       "<Response [200]>"
      ]
     },
     "execution_count": 6,
     "metadata": {},
     "output_type": "execute_result"
    }
   ],
   "source": [
    "data_min"
   ]
  },
  {
   "cell_type": "code",
   "execution_count": 7,
   "id": "3848375a-51d5-4f9d-afc2-0123039546e0",
   "metadata": {},
   "outputs": [],
   "source": [
    "states = data_min.json()"
   ]
  },
  {
   "cell_type": "code",
   "execution_count": 8,
   "id": "4879d4e5",
   "metadata": {},
   "outputs": [
    {
     "data": {
      "text/plain": [
       "37"
      ]
     },
     "execution_count": 8,
     "metadata": {},
     "output_type": "execute_result"
    }
   ],
   "source": [
    "len(states.keys())"
   ]
  },
  {
   "cell_type": "code",
   "execution_count": 9,
   "id": "66026fe0",
   "metadata": {},
   "outputs": [
    {
     "name": "stdout",
     "output_type": "stream",
     "text": [
      "['AN', 'AP', 'AR', 'AS', 'BR', 'CH', 'CT', 'DL', 'DN', 'GA', 'GJ', 'HP', 'HR', 'JH', 'JK', 'KA', 'KL', 'LA', 'LD', 'MH', 'ML', 'MN', 'MP', 'MZ', 'NL', 'OR', 'PB', 'PY', 'RJ', 'SK', 'TG', 'TN', 'TR', 'UP', 'UT', 'WB']\n",
      "['AN', 'AP', 'AR', 'AS', 'BR', 'CH', 'CT', 'DL', 'DN', 'GA', 'GJ', 'HP', 'HR', 'JH', 'JK', 'KA', 'KL', 'LA', 'LD', 'MH', 'ML', 'MN', 'MP', 'MZ', 'NL', 'OR', 'PB', 'PY', 'RJ', 'SK', 'TG', 'TN', 'TR', 'TT', 'UP', 'UT', 'WB']\n"
     ]
    }
   ],
   "source": [
    "print(sorted(state_name_dict.keys()))\n",
    "print(sorted(states.keys()))"
   ]
  },
  {
   "cell_type": "code",
   "execution_count": 10,
   "id": "5622fb72",
   "metadata": {},
   "outputs": [
    {
     "data": {
      "text/plain": [
       "{'delta': {'confirmed': 12907,\n",
       "  'deceased': 251,\n",
       "  'other': 1,\n",
       "  'recovered': 13152,\n",
       "  'tested': 881379,\n",
       "  'vaccinated1': 750410,\n",
       "  'vaccinated2': 933460},\n",
       " 'delta21_14': {'confirmed': 109755},\n",
       " 'delta7': {'confirmed': 96071,\n",
       "  'deceased': 3727,\n",
       "  'other': 37,\n",
       "  'recovered': 101753,\n",
       "  'tested': 8431577,\n",
       "  'vaccinated1': 15883780,\n",
       "  'vaccinated2': 24527530},\n",
       " 'meta': {'date': '2021-10-31',\n",
       "  'last_updated': '2021-11-01T11:20:24+05:30',\n",
       "  'population': 1332900000,\n",
       "  'tested': {'date': '2021-10-31',\n",
       "   'source': 'https://twitter.com/ICMRDELHI/status/1455013648355577862?s=20'},\n",
       "  'vaccinated': {'date': '2021-10-31',\n",
       "   'source': 'https://www.pib.gov.in/PressReleasePage.aspx?PRID=1768299'}},\n",
       " 'total': {'confirmed': 34285612,\n",
       "  'deceased': 458470,\n",
       "  'other': 13197,\n",
       "  'recovered': 33661339,\n",
       "  'tested': 609201294,\n",
       "  'vaccinated1': 732371508,\n",
       "  'vaccinated2': 330752697}}"
      ]
     },
     "execution_count": 10,
     "metadata": {},
     "output_type": "execute_result"
    }
   ],
   "source": [
    "states['TT']"
   ]
  },
  {
   "cell_type": "code",
   "execution_count": 11,
   "id": "6b4f823e",
   "metadata": {},
   "outputs": [
    {
     "data": {
      "text/plain": [
       "{'delta': {'tested': 1376, 'vaccinated1': 3, 'vaccinated2': 13},\n",
       " 'delta21_14': {'confirmed': 9},\n",
       " 'delta7': {'confirmed': 3,\n",
       "  'recovered': 5,\n",
       "  'tested': 8936,\n",
       "  'vaccinated1': 884,\n",
       "  'vaccinated2': 10640},\n",
       " 'districts': {'Nicobars': {'delta7': {'vaccinated1': 62, 'vaccinated2': 811},\n",
       "   'meta': {'population': 36842},\n",
       "   'total': {'vaccinated1': 25394, 'vaccinated2': 20313}},\n",
       "  'North and Middle Andaman': {'delta': {'vaccinated2': 8},\n",
       "   'delta7': {'vaccinated1': 90, 'vaccinated2': 1839},\n",
       "   'meta': {'population': 105597},\n",
       "   'total': {'vaccinated1': 78945, 'vaccinated2': 59522}},\n",
       "  'South Andaman': {'delta': {'vaccinated1': 3, 'vaccinated2': 28},\n",
       "   'delta7': {'vaccinated1': 732, 'vaccinated2': 8012},\n",
       "   'meta': {'population': 238142},\n",
       "   'total': {'vaccinated1': 189662, 'vaccinated2': 120322}},\n",
       "  'Unknown': {'delta21_14': {'confirmed': 9},\n",
       "   'delta7': {'confirmed': 3, 'recovered': 5},\n",
       "   'total': {'confirmed': 7651, 'deceased': 129, 'recovered': 7518}}},\n",
       " 'meta': {'date': '2021-10-31',\n",
       "  'last_updated': '2021-11-01T11:03:10+05:30',\n",
       "  'population': 397000,\n",
       "  'tested': {'date': '2021-10-31',\n",
       "   'source': 'https://dhs.andaman.gov.in/NewEvents/851.pdf'},\n",
       "  'vaccinated': {'date': '2021-10-31'}},\n",
       " 'total': {'confirmed': 7651,\n",
       "  'deceased': 129,\n",
       "  'recovered': 7518,\n",
       "  'tested': 598033,\n",
       "  'vaccinated1': 294001,\n",
       "  'vaccinated2': 200157}}"
      ]
     },
     "execution_count": 11,
     "metadata": {},
     "output_type": "execute_result"
    }
   ],
   "source": [
    "states['AN']"
   ]
  },
  {
   "cell_type": "code",
   "execution_count": 14,
   "id": "76bbcf81",
   "metadata": {},
   "outputs": [
    {
     "data": {
      "text/plain": [
       "{'confirmed': 9}"
      ]
     },
     "execution_count": 14,
     "metadata": {},
     "output_type": "execute_result"
    }
   ],
   "source": [
    "states['AN']['delta21_14'] # As there is minimal data present in delta21_14 i'm not considering it in our further parts."
   ]
  },
  {
   "cell_type": "code",
   "execution_count": 13,
   "id": "7b315120",
   "metadata": {},
   "outputs": [
    {
     "data": {
      "text/plain": [
       "{'date': '2021-10-31',\n",
       " 'last_updated': '2021-11-01T11:20:24+05:30',\n",
       " 'population': 1332900000,\n",
       " 'tested': {'date': '2021-10-31',\n",
       "  'source': 'https://twitter.com/ICMRDELHI/status/1455013648355577862?s=20'},\n",
       " 'vaccinated': {'date': '2021-10-31',\n",
       "  'source': 'https://www.pib.gov.in/PressReleasePage.aspx?PRID=1768299'}}"
      ]
     },
     "execution_count": 13,
     "metadata": {},
     "output_type": "execute_result"
    },
    {
     "data": {
      "text/plain": [
       "{'confirmed': 34285612,\n",
       " 'deceased': 458470,\n",
       " 'other': 13197,\n",
       " 'recovered': 33661339,\n",
       " 'tested': 609201294,\n",
       " 'vaccinated1': 732371508,\n",
       " 'vaccinated2': 330752697}"
      ]
     },
     "execution_count": 13,
     "metadata": {},
     "output_type": "execute_result"
    }
   ],
   "source": [
    "states['TT']['meta']\n",
    "states['TT']['total']"
   ]
  },
  {
   "cell_type": "markdown",
   "id": "230b3bd0-b013-4712-8309-4a0e935bc077",
   "metadata": {},
   "source": [
    "**<h2>ALL STATES</h2>**"
   ]
  },
  {
   "cell_type": "code",
   "execution_count": 14,
   "id": "d52d5b44-0bd8-4a53-9a3e-38900a2a0ca8",
   "metadata": {},
   "outputs": [],
   "source": [
    "# loopng through the data for the total states data\n",
    "all_states = []\n",
    "\n",
    "for i in states.keys():\n",
    "    if i not in 'TT':\n",
    "        state = i\n",
    "        population = int(states[i]['meta']['population'])\n",
    "        confirmed = int(states[i]['total']['confirmed'])\n",
    "        deceased = int(states[i]['total']['deceased'])\n",
    "        recovered = int(states[i]['total']['recovered'])\n",
    "        tested = int(states[i]['total']['tested'])\n",
    "        vaccinated1 = int(states[i]['total']['vaccinated1'])\n",
    "        vaccinated2 = int(states[i]['total']['vaccinated2'])\n",
    "\n",
    "        dict_all_states = {'state' : state_name_dict[state], 'state_short' : state, 'state_total_confirmed' : confirmed,'state_total_population' : population, 'state_total_deceased' : deceased, 'state_total_recovered' : recovered, 'state_total_tested' : tested, 'state_total_vaccinated_1' : vaccinated1, ' state_total_vaccinated_2' :vaccinated2}\n",
    "        all_states.append(dict_all_states)"
   ]
  },
  {
   "cell_type": "code",
   "execution_count": 15,
   "id": "0817fb95-dd01-4b46-8975-d430730db4fa",
   "metadata": {},
   "outputs": [
    {
     "name": "stdout",
     "output_type": "stream",
     "text": [
      "36\n"
     ]
    },
    {
     "data": {
      "text/html": [
       "<div>\n",
       "<style scoped>\n",
       "    .dataframe tbody tr th:only-of-type {\n",
       "        vertical-align: middle;\n",
       "    }\n",
       "\n",
       "    .dataframe tbody tr th {\n",
       "        vertical-align: top;\n",
       "    }\n",
       "\n",
       "    .dataframe thead th {\n",
       "        text-align: right;\n",
       "    }\n",
       "</style>\n",
       "<table border=\"1\" class=\"dataframe\">\n",
       "  <thead>\n",
       "    <tr style=\"text-align: right;\">\n",
       "      <th></th>\n",
       "      <th>state</th>\n",
       "      <th>state_short</th>\n",
       "      <th>state_total_confirmed</th>\n",
       "      <th>state_total_population</th>\n",
       "      <th>state_total_deceased</th>\n",
       "      <th>state_total_recovered</th>\n",
       "      <th>state_total_tested</th>\n",
       "      <th>state_total_vaccinated_1</th>\n",
       "      <th>state_total_vaccinated_2</th>\n",
       "    </tr>\n",
       "  </thead>\n",
       "  <tbody>\n",
       "    <tr>\n",
       "      <th>0</th>\n",
       "      <td>Andaman and Nicobar Islands</td>\n",
       "      <td>AN</td>\n",
       "      <td>7651</td>\n",
       "      <td>397000</td>\n",
       "      <td>129</td>\n",
       "      <td>7518</td>\n",
       "      <td>598033</td>\n",
       "      <td>294001</td>\n",
       "      <td>200157</td>\n",
       "    </tr>\n",
       "    <tr>\n",
       "      <th>1</th>\n",
       "      <td>Andhra Pradesh</td>\n",
       "      <td>AP</td>\n",
       "      <td>2066450</td>\n",
       "      <td>52221000</td>\n",
       "      <td>14373</td>\n",
       "      <td>2047722</td>\n",
       "      <td>29518787</td>\n",
       "      <td>32976969</td>\n",
       "      <td>20375181</td>\n",
       "    </tr>\n",
       "    <tr>\n",
       "      <th>2</th>\n",
       "      <td>Arunachal Pradesh</td>\n",
       "      <td>AR</td>\n",
       "      <td>55155</td>\n",
       "      <td>1504000</td>\n",
       "      <td>280</td>\n",
       "      <td>54774</td>\n",
       "      <td>1185436</td>\n",
       "      <td>771875</td>\n",
       "      <td>534486</td>\n",
       "    </tr>\n",
       "    <tr>\n",
       "      <th>3</th>\n",
       "      <td>Assam</td>\n",
       "      <td>AS</td>\n",
       "      <td>610645</td>\n",
       "      <td>34293000</td>\n",
       "      <td>5997</td>\n",
       "      <td>600974</td>\n",
       "      <td>24712042</td>\n",
       "      <td>20172463</td>\n",
       "      <td>8068795</td>\n",
       "    </tr>\n",
       "    <tr>\n",
       "      <th>4</th>\n",
       "      <td>Bihar</td>\n",
       "      <td>BR</td>\n",
       "      <td>726098</td>\n",
       "      <td>119520000</td>\n",
       "      <td>9661</td>\n",
       "      <td>716390</td>\n",
       "      <td>50531824</td>\n",
       "      <td>49874828</td>\n",
       "      <td>18346781</td>\n",
       "    </tr>\n",
       "  </tbody>\n",
       "</table>\n",
       "</div>"
      ],
      "text/plain": [
       "                         state state_short  state_total_confirmed  \\\n",
       "0  Andaman and Nicobar Islands          AN                   7651   \n",
       "1               Andhra Pradesh          AP                2066450   \n",
       "2            Arunachal Pradesh          AR                  55155   \n",
       "3                        Assam          AS                 610645   \n",
       "4                        Bihar          BR                 726098   \n",
       "\n",
       "   state_total_population  state_total_deceased  state_total_recovered  \\\n",
       "0                  397000                   129                   7518   \n",
       "1                52221000                 14373                2047722   \n",
       "2                 1504000                   280                  54774   \n",
       "3                34293000                  5997                 600974   \n",
       "4               119520000                  9661                 716390   \n",
       "\n",
       "   state_total_tested  state_total_vaccinated_1   state_total_vaccinated_2  \n",
       "0              598033                    294001                     200157  \n",
       "1            29518787                  32976969                   20375181  \n",
       "2             1185436                    771875                     534486  \n",
       "3            24712042                  20172463                    8068795  \n",
       "4            50531824                  49874828                   18346781  "
      ]
     },
     "execution_count": 15,
     "metadata": {},
     "output_type": "execute_result"
    }
   ],
   "source": [
    "# creating dataframe of states total\n",
    "\n",
    "all_states_df = pd.DataFrame(all_states)\n",
    "print(len(all_states_df))\n",
    "all_states_df.head(5)"
   ]
  },
  {
   "cell_type": "code",
   "execution_count": 55,
   "id": "564fa855-608f-479d-920c-2a2e2c2ed4a8",
   "metadata": {},
   "outputs": [],
   "source": [
    "# converting to csv states total\n",
    "all_states_df.to_csv('ALL_STATES.csv',index=False)"
   ]
  },
  {
   "cell_type": "markdown",
   "id": "54d0520b",
   "metadata": {},
   "source": [
    "**<h2>States Wise Delta Virus</h2>**"
   ]
  },
  {
   "cell_type": "code",
   "execution_count": 16,
   "id": "7fc3d3a8",
   "metadata": {},
   "outputs": [
    {
     "data": {
      "text/plain": [
       "{'tested': 1376, 'vaccinated1': 3, 'vaccinated2': 13}"
      ]
     },
     "execution_count": 16,
     "metadata": {},
     "output_type": "execute_result"
    }
   ],
   "source": [
    "states['AN']['delta']     # SAMPLE "
   ]
  },
  {
   "cell_type": "code",
   "execution_count": 17,
   "id": "8769b333",
   "metadata": {},
   "outputs": [],
   "source": [
    "#  loopng through the data for delta of states\n",
    "\n",
    "states_delta_virus = []\n",
    "for i in states.keys():\n",
    "    if i not in 'TT':\n",
    "        state = i\n",
    "        confirmed = 0\n",
    "        recovered = 0\n",
    "        deceased = 0\n",
    "        tested = 0\n",
    "        vaccinated1 = 0\n",
    "        vaccinated2 = 0\n",
    "        if 'confirmed' in states[i]['delta']:\n",
    "            confirmed+=int(states[i]['delta']['confirmed'])\n",
    "\n",
    "        if 'recovered' in states[i]['delta']:\n",
    "            recovered+=int(states[i]['delta']['recovered'])\n",
    "\n",
    "        if 'deceased' in states[i]['delta']:\n",
    "            deceased+=int(states[i]['delta']['deceased'])\n",
    "\n",
    "        if 'tested' in states[i]['delta']:\n",
    "            tested+=int(states[i]['delta']['tested'])\n",
    "\n",
    "        if 'vaccinated1' in states[i]['delta']:\n",
    "            vaccinated1+=int(states[i]['delta']['vaccinated1'])\n",
    "\n",
    "        if 'vaccinated2' in states[i]['delta']:\n",
    "            vaccinated2+=int(states[i]['delta']['vaccinated2'])\n",
    "\n",
    "        dict_states_delta_virus = {'state' : state_name_dict[state], 'state_short' : state, 'state_delta_confirmed' : confirmed, 'state_delta_recovered' : recovered, 'state_delta_deceased' : deceased, 'state_delta_tested' : tested, 'state_delta_vaccinated_1' : vaccinated1, 'state_delta_vaccinated_2' : vaccinated2}\n",
    "        states_delta_virus.append(dict_states_delta_virus)"
   ]
  },
  {
   "cell_type": "code",
   "execution_count": 18,
   "id": "f785e74d",
   "metadata": {},
   "outputs": [
    {
     "data": {
      "text/plain": [
       "36"
      ]
     },
     "execution_count": 18,
     "metadata": {},
     "output_type": "execute_result"
    },
    {
     "data": {
      "text/html": [
       "<div>\n",
       "<style scoped>\n",
       "    .dataframe tbody tr th:only-of-type {\n",
       "        vertical-align: middle;\n",
       "    }\n",
       "\n",
       "    .dataframe tbody tr th {\n",
       "        vertical-align: top;\n",
       "    }\n",
       "\n",
       "    .dataframe thead th {\n",
       "        text-align: right;\n",
       "    }\n",
       "</style>\n",
       "<table border=\"1\" class=\"dataframe\">\n",
       "  <thead>\n",
       "    <tr style=\"text-align: right;\">\n",
       "      <th></th>\n",
       "      <th>state</th>\n",
       "      <th>state_short</th>\n",
       "      <th>state_delta_confirmed</th>\n",
       "      <th>state_delta_recovered</th>\n",
       "      <th>state_delta_deceased</th>\n",
       "      <th>state_delta_tested</th>\n",
       "      <th>state_delta_vaccinated_1</th>\n",
       "      <th>state_delta_vaccinated_2</th>\n",
       "    </tr>\n",
       "  </thead>\n",
       "  <tbody>\n",
       "    <tr>\n",
       "      <th>0</th>\n",
       "      <td>Andaman and Nicobar Islands</td>\n",
       "      <td>AN</td>\n",
       "      <td>0</td>\n",
       "      <td>0</td>\n",
       "      <td>0</td>\n",
       "      <td>1376</td>\n",
       "      <td>3</td>\n",
       "      <td>13</td>\n",
       "    </tr>\n",
       "    <tr>\n",
       "      <th>1</th>\n",
       "      <td>Andhra Pradesh</td>\n",
       "      <td>AP</td>\n",
       "      <td>385</td>\n",
       "      <td>675</td>\n",
       "      <td>4</td>\n",
       "      <td>39848</td>\n",
       "      <td>20497</td>\n",
       "      <td>24137</td>\n",
       "    </tr>\n",
       "    <tr>\n",
       "      <th>2</th>\n",
       "      <td>Arunachal Pradesh</td>\n",
       "      <td>AR</td>\n",
       "      <td>1</td>\n",
       "      <td>9</td>\n",
       "      <td>0</td>\n",
       "      <td>334</td>\n",
       "      <td>42</td>\n",
       "      <td>195</td>\n",
       "    </tr>\n",
       "  </tbody>\n",
       "</table>\n",
       "</div>"
      ],
      "text/plain": [
       "                         state state_short  state_delta_confirmed  \\\n",
       "0  Andaman and Nicobar Islands          AN                      0   \n",
       "1               Andhra Pradesh          AP                    385   \n",
       "2            Arunachal Pradesh          AR                      1   \n",
       "\n",
       "   state_delta_recovered  state_delta_deceased  state_delta_tested  \\\n",
       "0                      0                     0                1376   \n",
       "1                    675                     4               39848   \n",
       "2                      9                     0                 334   \n",
       "\n",
       "   state_delta_vaccinated_1  state_delta_vaccinated_2  \n",
       "0                         3                        13  \n",
       "1                     20497                     24137  \n",
       "2                        42                       195  "
      ]
     },
     "execution_count": 18,
     "metadata": {},
     "output_type": "execute_result"
    }
   ],
   "source": [
    "# creating dataframe of states delta\n",
    "states_delta_virus_df = pd.DataFrame(states_delta_virus)\n",
    "len(states_delta_virus_df)\n",
    "states_delta_virus_df.head(3)"
   ]
  },
  {
   "cell_type": "code",
   "execution_count": 18,
   "id": "6631728a",
   "metadata": {},
   "outputs": [],
   "source": [
    "# converting to csv states delta\n",
    "states_delta_virus_df.to_csv('STATES_DELTA_VIRUS.csv',index=False)"
   ]
  },
  {
   "cell_type": "markdown",
   "id": "005fb3d9",
   "metadata": {},
   "source": [
    "**<h2>States Wise Delta7 Virus</h2>**"
   ]
  },
  {
   "cell_type": "code",
   "execution_count": 19,
   "id": "ef874646",
   "metadata": {},
   "outputs": [],
   "source": [
    "# loopng through the data for delta7_virus of states\n",
    "\n",
    "states_delta7_virus = []\n",
    "for i in states.keys():\n",
    "    if i != 'TT':\n",
    "        state = i\n",
    "        confirmed = 0\n",
    "        recovered = 0\n",
    "        deceased = 0\n",
    "        tested = 0\n",
    "        vaccinated1 = 0\n",
    "        vaccinated2 = 0\n",
    "        if 'confirmed' in states[i]['delta7']:\n",
    "            confirmed+=int(states[i]['delta7']['confirmed'])\n",
    "\n",
    "        if 'recovered' in states[i]['delta7']:\n",
    "            recovered+=int(states[i]['delta7']['recovered'])\n",
    "\n",
    "        if 'deceased' in states[i]['delta7']:\n",
    "            deceased+=int(states[i]['delta7']['deceased'])\n",
    "\n",
    "        if 'tested' in states[i]['delta7']:\n",
    "            tested+=int(states[i]['delta7']['tested'])\n",
    "\n",
    "        if 'vaccinated1' in states[i]['delta7']:\n",
    "            vaccinated1+=int(states[i]['delta7']['vaccinated1'])\n",
    "\n",
    "        if 'vaccinated2' in states[i]['delta7']:\n",
    "            vaccinated2+=int(states[i]['delta7']['vaccinated2'])\n",
    "\n",
    "        dict_state_delta7_virus = {'state' : state_name_dict[state], 'state_short' : state, 'state_delta7_confirmed' : confirmed, 'state_delta7_recovered' : recovered, 'state_delta7_deceased' : deceased, 'state_delta7_tested' : tested, 'state_delta7_vaccinated_1' : vaccinated1, 'state_delta7_vaccinated_2' : vaccinated2}\n",
    "        states_delta7_virus.append(dict_state_delta7_virus)"
   ]
  },
  {
   "cell_type": "code",
   "execution_count": 20,
   "id": "75e6250a",
   "metadata": {},
   "outputs": [],
   "source": [
    "# states_delta7"
   ]
  },
  {
   "cell_type": "code",
   "execution_count": 21,
   "id": "199fa047",
   "metadata": {},
   "outputs": [
    {
     "data": {
      "text/plain": [
       "36"
      ]
     },
     "execution_count": 21,
     "metadata": {},
     "output_type": "execute_result"
    },
    {
     "data": {
      "text/html": [
       "<div>\n",
       "<style scoped>\n",
       "    .dataframe tbody tr th:only-of-type {\n",
       "        vertical-align: middle;\n",
       "    }\n",
       "\n",
       "    .dataframe tbody tr th {\n",
       "        vertical-align: top;\n",
       "    }\n",
       "\n",
       "    .dataframe thead th {\n",
       "        text-align: right;\n",
       "    }\n",
       "</style>\n",
       "<table border=\"1\" class=\"dataframe\">\n",
       "  <thead>\n",
       "    <tr style=\"text-align: right;\">\n",
       "      <th></th>\n",
       "      <th>state</th>\n",
       "      <th>state_short</th>\n",
       "      <th>state_delta7_confirmed</th>\n",
       "      <th>state_delta7_recovered</th>\n",
       "      <th>state_delta7_deceased</th>\n",
       "      <th>state_delta7_tested</th>\n",
       "      <th>state_delta7_vaccinated_1</th>\n",
       "      <th>state_delta7_vaccinated_2</th>\n",
       "    </tr>\n",
       "  </thead>\n",
       "  <tbody>\n",
       "    <tr>\n",
       "      <th>0</th>\n",
       "      <td>Andaman and Nicobar Islands</td>\n",
       "      <td>AN</td>\n",
       "      <td>3</td>\n",
       "      <td>5</td>\n",
       "      <td>0</td>\n",
       "      <td>8936</td>\n",
       "      <td>884</td>\n",
       "      <td>10640</td>\n",
       "    </tr>\n",
       "    <tr>\n",
       "      <th>1</th>\n",
       "      <td>Andhra Pradesh</td>\n",
       "      <td>AP</td>\n",
       "      <td>2873</td>\n",
       "      <td>3590</td>\n",
       "      <td>30</td>\n",
       "      <td>254532</td>\n",
       "      <td>1223010</td>\n",
       "      <td>1887005</td>\n",
       "    </tr>\n",
       "    <tr>\n",
       "      <th>2</th>\n",
       "      <td>Arunachal Pradesh</td>\n",
       "      <td>AR</td>\n",
       "      <td>66</td>\n",
       "      <td>97</td>\n",
       "      <td>0</td>\n",
       "      <td>4788</td>\n",
       "      <td>3312</td>\n",
       "      <td>23647</td>\n",
       "    </tr>\n",
       "    <tr>\n",
       "      <th>3</th>\n",
       "      <td>Assam</td>\n",
       "      <td>AS</td>\n",
       "      <td>2056</td>\n",
       "      <td>2215</td>\n",
       "      <td>24</td>\n",
       "      <td>269097</td>\n",
       "      <td>274869</td>\n",
       "      <td>849889</td>\n",
       "    </tr>\n",
       "  </tbody>\n",
       "</table>\n",
       "</div>"
      ],
      "text/plain": [
       "                         state state_short  state_delta7_confirmed  \\\n",
       "0  Andaman and Nicobar Islands          AN                       3   \n",
       "1               Andhra Pradesh          AP                    2873   \n",
       "2            Arunachal Pradesh          AR                      66   \n",
       "3                        Assam          AS                    2056   \n",
       "\n",
       "   state_delta7_recovered  state_delta7_deceased  state_delta7_tested  \\\n",
       "0                       5                      0                 8936   \n",
       "1                    3590                     30               254532   \n",
       "2                      97                      0                 4788   \n",
       "3                    2215                     24               269097   \n",
       "\n",
       "   state_delta7_vaccinated_1  state_delta7_vaccinated_2  \n",
       "0                        884                      10640  \n",
       "1                    1223010                    1887005  \n",
       "2                       3312                      23647  \n",
       "3                     274869                     849889  "
      ]
     },
     "execution_count": 21,
     "metadata": {},
     "output_type": "execute_result"
    }
   ],
   "source": [
    "# creating dataframe of states delta7_virus\n",
    "states_delta7_virus_df = pd.DataFrame(states_delta7_virus)\n",
    "len(states_delta7_virus_df)\n",
    "states_delta7_virus_df.head(4)"
   ]
  },
  {
   "cell_type": "code",
   "execution_count": 21,
   "id": "85ba7b88",
   "metadata": {},
   "outputs": [],
   "source": [
    "# converting to csv states delta7\n",
    "states_delta7_virus_df.to_csv('STATES_DELTA7_VIRUS.csv',index=False)"
   ]
  },
  {
   "cell_type": "markdown",
   "id": "c6b1af02",
   "metadata": {},
   "source": [
    "**<h2>States And Then District Wise</h2>**"
   ]
  },
  {
   "cell_type": "code",
   "execution_count": 22,
   "id": "87056784",
   "metadata": {},
   "outputs": [],
   "source": [
    "# loopng through the data for total values for district of states\n",
    "\n",
    "states_district=[]\n",
    "\n",
    "for i in states.keys():\n",
    "    state = i\n",
    "    if state=='TT':\n",
    "        continue\n",
    "    else:\n",
    "        d1=states[state][\"districts\"]\n",
    "        for j in d1.keys():\n",
    "            district = j\n",
    "            if 'meta' in d1[j]:\n",
    "                if 'population' in d1[j]['meta']: \n",
    "                    population = d1[j]['meta']['population']\n",
    "            if 'total' in  d1[j]:\n",
    "                if 'confirmed' in d1[j]['total']:\n",
    "                   confirmed = d1[j]['total']['confirmed']\n",
    "                else:\n",
    "                    confirmed = '0'\n",
    "                if 'deceased' in d1[j]['total']:\n",
    "                   deceased = d1[j]['total']['deceased']\n",
    "                else:\n",
    "                    deceased = '0'\n",
    "                if 'recovered' in d1[j]['total']:\n",
    "                   recovered = d1[j]['total']['recovered']\n",
    "                else:\n",
    "                    recovered = '0'\n",
    "                if 'tested' in d1[j]['total']:\n",
    "                   tested = d1[j]['total']['tested']\n",
    "                else:\n",
    "                    tested = '0'\n",
    "                if 'vaccinated1' in d1[j]['total']:\n",
    "                   vaccinated1 = d1[j]['total']['vaccinated1']\n",
    "                else:\n",
    "                    vaccinated1 = '0'\n",
    "                if 'vaccinated2' in d1[j]['total']:\n",
    "                   vaccinated2 = d1[j]['total']['vaccinated2']\n",
    "                else:\n",
    "                    vaccinated2 = '0'\n",
    "                dict_states_district = {'state_name' : state_name_dict[state],'State':state, 'District':district,'Population':population,'Confirmed':confirmed, 'Deceased':deceased, 'Recovered':recovered,'Tested':tested,'Vaccinated1':vaccinated1,'Vaccinated2':vaccinated2}\n",
    "                states_district.append(dict_states_district)"
   ]
  },
  {
   "cell_type": "code",
   "execution_count": 23,
   "id": "af266052",
   "metadata": {},
   "outputs": [],
   "source": [
    "# list2"
   ]
  },
  {
   "cell_type": "code",
   "execution_count": 24,
   "id": "04692a76",
   "metadata": {},
   "outputs": [
    {
     "data": {
      "text/plain": [
       "747"
      ]
     },
     "execution_count": 24,
     "metadata": {},
     "output_type": "execute_result"
    },
    {
     "data": {
      "text/html": [
       "<div>\n",
       "<style scoped>\n",
       "    .dataframe tbody tr th:only-of-type {\n",
       "        vertical-align: middle;\n",
       "    }\n",
       "\n",
       "    .dataframe tbody tr th {\n",
       "        vertical-align: top;\n",
       "    }\n",
       "\n",
       "    .dataframe thead th {\n",
       "        text-align: right;\n",
       "    }\n",
       "</style>\n",
       "<table border=\"1\" class=\"dataframe\">\n",
       "  <thead>\n",
       "    <tr style=\"text-align: right;\">\n",
       "      <th></th>\n",
       "      <th>state_name</th>\n",
       "      <th>State</th>\n",
       "      <th>District</th>\n",
       "      <th>Population</th>\n",
       "      <th>Confirmed</th>\n",
       "      <th>Deceased</th>\n",
       "      <th>Recovered</th>\n",
       "      <th>Tested</th>\n",
       "      <th>Vaccinated1</th>\n",
       "      <th>Vaccinated2</th>\n",
       "    </tr>\n",
       "  </thead>\n",
       "  <tbody>\n",
       "    <tr>\n",
       "      <th>0</th>\n",
       "      <td>Andaman and Nicobar Islands</td>\n",
       "      <td>AN</td>\n",
       "      <td>Nicobars</td>\n",
       "      <td>36842</td>\n",
       "      <td>0</td>\n",
       "      <td>0</td>\n",
       "      <td>0</td>\n",
       "      <td>0</td>\n",
       "      <td>25394</td>\n",
       "      <td>20313</td>\n",
       "    </tr>\n",
       "    <tr>\n",
       "      <th>1</th>\n",
       "      <td>Andaman and Nicobar Islands</td>\n",
       "      <td>AN</td>\n",
       "      <td>North and Middle Andaman</td>\n",
       "      <td>105597</td>\n",
       "      <td>0</td>\n",
       "      <td>0</td>\n",
       "      <td>0</td>\n",
       "      <td>0</td>\n",
       "      <td>78945</td>\n",
       "      <td>59522</td>\n",
       "    </tr>\n",
       "    <tr>\n",
       "      <th>2</th>\n",
       "      <td>Andaman and Nicobar Islands</td>\n",
       "      <td>AN</td>\n",
       "      <td>South Andaman</td>\n",
       "      <td>238142</td>\n",
       "      <td>0</td>\n",
       "      <td>0</td>\n",
       "      <td>0</td>\n",
       "      <td>0</td>\n",
       "      <td>189662</td>\n",
       "      <td>120322</td>\n",
       "    </tr>\n",
       "    <tr>\n",
       "      <th>3</th>\n",
       "      <td>Andaman and Nicobar Islands</td>\n",
       "      <td>AN</td>\n",
       "      <td>Unknown</td>\n",
       "      <td>238142</td>\n",
       "      <td>7651</td>\n",
       "      <td>129</td>\n",
       "      <td>7518</td>\n",
       "      <td>0</td>\n",
       "      <td>0</td>\n",
       "      <td>0</td>\n",
       "    </tr>\n",
       "    <tr>\n",
       "      <th>4</th>\n",
       "      <td>Andhra Pradesh</td>\n",
       "      <td>AP</td>\n",
       "      <td>Anantapur</td>\n",
       "      <td>4083315</td>\n",
       "      <td>157843</td>\n",
       "      <td>1093</td>\n",
       "      <td>156699</td>\n",
       "      <td>787085</td>\n",
       "      <td>2690082</td>\n",
       "      <td>1611476</td>\n",
       "    </tr>\n",
       "    <tr>\n",
       "      <th>5</th>\n",
       "      <td>Andhra Pradesh</td>\n",
       "      <td>AP</td>\n",
       "      <td>Chittoor</td>\n",
       "      <td>4170468</td>\n",
       "      <td>246935</td>\n",
       "      <td>1947</td>\n",
       "      <td>244144</td>\n",
       "      <td>780322</td>\n",
       "      <td>2832987</td>\n",
       "      <td>1807873</td>\n",
       "    </tr>\n",
       "  </tbody>\n",
       "</table>\n",
       "</div>"
      ],
      "text/plain": [
       "                    state_name State                  District  Population  \\\n",
       "0  Andaman and Nicobar Islands    AN                  Nicobars       36842   \n",
       "1  Andaman and Nicobar Islands    AN  North and Middle Andaman      105597   \n",
       "2  Andaman and Nicobar Islands    AN             South Andaman      238142   \n",
       "3  Andaman and Nicobar Islands    AN                   Unknown      238142   \n",
       "4               Andhra Pradesh    AP                 Anantapur     4083315   \n",
       "5               Andhra Pradesh    AP                  Chittoor     4170468   \n",
       "\n",
       "  Confirmed Deceased Recovered  Tested Vaccinated1 Vaccinated2  \n",
       "0         0        0         0       0       25394       20313  \n",
       "1         0        0         0       0       78945       59522  \n",
       "2         0        0         0       0      189662      120322  \n",
       "3      7651      129      7518       0           0           0  \n",
       "4    157843     1093    156699  787085     2690082     1611476  \n",
       "5    246935     1947    244144  780322     2832987     1807873  "
      ]
     },
     "execution_count": 24,
     "metadata": {},
     "output_type": "execute_result"
    }
   ],
   "source": [
    "# creating dataframe of district total\n",
    "states_district_df = pd.DataFrame(states_district)\n",
    "len(states_district_df)\n",
    "states_district_df.head(6)"
   ]
  },
  {
   "cell_type": "code",
   "execution_count": 25,
   "id": "68be4e51",
   "metadata": {},
   "outputs": [],
   "source": [
    "# df2"
   ]
  },
  {
   "cell_type": "code",
   "execution_count": 25,
   "id": "804d35b8",
   "metadata": {},
   "outputs": [],
   "source": [
    "# converting to csv district total\n",
    "states_district_df.to_csv('STATES_DISTRICT.csv',index=False)"
   ]
  },
  {
   "cell_type": "markdown",
   "id": "473ac19d",
   "metadata": {},
   "source": [
    "**<h2>States And Then District Wise Delta Virus</h2>**"
   ]
  },
  {
   "cell_type": "code",
   "execution_count": 26,
   "id": "16df2b3c",
   "metadata": {},
   "outputs": [],
   "source": [
    "# loopng through the data for delta values for district of states\n",
    "\n",
    "states_district_delta_virus = []\n",
    "\n",
    "for i in states.keys():\n",
    "    state =i\n",
    "    if state=='TT':\n",
    "        continue\n",
    "    else:\n",
    "        d1=states[i][\"districts\"]\n",
    "        for j in d1.keys():\n",
    "            district = j\n",
    "            if 'meta' in d1[j]:\n",
    "                if 'population' in d1[j]['meta']: \n",
    "                    population = d1[j]['meta']['population']\n",
    "            if 'delta' in  d1[j]:\n",
    "                if 'confirmed' in d1[j]['delta']:\n",
    "                   confirmed= d1[j]['delta']['confirmed']\n",
    "                else:\n",
    "                    confirmed ='0'\n",
    "                if 'deceased' in d1[j]['delta']:\n",
    "                   deceased = d1[j]['delta']['deceased']\n",
    "                else:\n",
    "                    deceased ='0'\n",
    "                if 'recovered' in d1[j]['delta']:\n",
    "                   recovered = d1[j]['delta']['recovered']\n",
    "                else:\n",
    "                    recovered ='0'\n",
    "                if 'tested' in d1[j]['delta']:\n",
    "                   tested = d1[j]['delta']['tested']\n",
    "                else:\n",
    "                    tested ='0'\n",
    "                if 'vaccinated1' in d1[j]['delta']:\n",
    "                   vaccinated1 = d1[j]['delta']['vaccinated1']\n",
    "                else:\n",
    "                    vaccinated1 ='0'\n",
    "                if 'vaccinated2' in d1[j]['delta']:\n",
    "                   vaccinated2 = d1[j]['delta']['vaccinated2']\n",
    "                else:\n",
    "                    vaccinated2 ='0'\n",
    "                dict_states_district_delta_virus = {'State':state, 'District':district,'Population':population,'Confirmed':confirmed, 'Deceased':deceased, 'Recovered':recovered,'Tested':tested,'Vaccinated1':vaccinated1,'Vaccinated2':vaccinated2}\n",
    "                states_district_delta_virus.append(dict_states_district_delta_virus)"
   ]
  },
  {
   "cell_type": "code",
   "execution_count": 27,
   "id": "1e179f57",
   "metadata": {},
   "outputs": [],
   "source": [
    "# district_delta"
   ]
  },
  {
   "cell_type": "code",
   "execution_count": 28,
   "id": "20e7cf3a",
   "metadata": {},
   "outputs": [
    {
     "data": {
      "text/plain": [
       "697"
      ]
     },
     "execution_count": 28,
     "metadata": {},
     "output_type": "execute_result"
    },
    {
     "data": {
      "text/html": [
       "<div>\n",
       "<style scoped>\n",
       "    .dataframe tbody tr th:only-of-type {\n",
       "        vertical-align: middle;\n",
       "    }\n",
       "\n",
       "    .dataframe tbody tr th {\n",
       "        vertical-align: top;\n",
       "    }\n",
       "\n",
       "    .dataframe thead th {\n",
       "        text-align: right;\n",
       "    }\n",
       "</style>\n",
       "<table border=\"1\" class=\"dataframe\">\n",
       "  <thead>\n",
       "    <tr style=\"text-align: right;\">\n",
       "      <th></th>\n",
       "      <th>State</th>\n",
       "      <th>District</th>\n",
       "      <th>Population</th>\n",
       "      <th>Confirmed</th>\n",
       "      <th>Deceased</th>\n",
       "      <th>Recovered</th>\n",
       "      <th>Tested</th>\n",
       "      <th>Vaccinated1</th>\n",
       "      <th>Vaccinated2</th>\n",
       "    </tr>\n",
       "  </thead>\n",
       "  <tbody>\n",
       "    <tr>\n",
       "      <th>678</th>\n",
       "      <td>WB</td>\n",
       "      <td>Dakshin Dinajpur</td>\n",
       "      <td>1670931</td>\n",
       "      <td>14</td>\n",
       "      <td>0</td>\n",
       "      <td>16</td>\n",
       "      <td>0</td>\n",
       "      <td>724</td>\n",
       "      <td>998</td>\n",
       "    </tr>\n",
       "    <tr>\n",
       "      <th>235</th>\n",
       "      <td>JK</td>\n",
       "      <td>Punch</td>\n",
       "      <td>476820</td>\n",
       "      <td>0</td>\n",
       "      <td>0</td>\n",
       "      <td>0</td>\n",
       "      <td>0</td>\n",
       "      <td>45</td>\n",
       "      <td>3190</td>\n",
       "    </tr>\n",
       "    <tr>\n",
       "      <th>210</th>\n",
       "      <td>JH</td>\n",
       "      <td>Jamtara</td>\n",
       "      <td>790207</td>\n",
       "      <td>0</td>\n",
       "      <td>0</td>\n",
       "      <td>0</td>\n",
       "      <td>0</td>\n",
       "      <td>973</td>\n",
       "      <td>1373</td>\n",
       "    </tr>\n",
       "    <tr>\n",
       "      <th>443</th>\n",
       "      <td>OR</td>\n",
       "      <td>Puri</td>\n",
       "      <td>1697983</td>\n",
       "      <td>15</td>\n",
       "      <td>1</td>\n",
       "      <td>7</td>\n",
       "      <td>0</td>\n",
       "      <td>2991</td>\n",
       "      <td>6548</td>\n",
       "    </tr>\n",
       "    <tr>\n",
       "      <th>92</th>\n",
       "      <td>BR</td>\n",
       "      <td>Sitamarhi</td>\n",
       "      <td>3419622</td>\n",
       "      <td>0</td>\n",
       "      <td>0</td>\n",
       "      <td>0</td>\n",
       "      <td>0</td>\n",
       "      <td>3873</td>\n",
       "      <td>5476</td>\n",
       "    </tr>\n",
       "    <tr>\n",
       "      <th>420</th>\n",
       "      <td>OR</td>\n",
       "      <td>Angul</td>\n",
       "      <td>1271703</td>\n",
       "      <td>1</td>\n",
       "      <td>0</td>\n",
       "      <td>3</td>\n",
       "      <td>0</td>\n",
       "      <td>9</td>\n",
       "      <td>38</td>\n",
       "    </tr>\n",
       "    <tr>\n",
       "      <th>666</th>\n",
       "      <td>UT</td>\n",
       "      <td>Haridwar</td>\n",
       "      <td>1927029</td>\n",
       "      <td>1</td>\n",
       "      <td>0</td>\n",
       "      <td>0</td>\n",
       "      <td>0</td>\n",
       "      <td>224</td>\n",
       "      <td>1907</td>\n",
       "    </tr>\n",
       "    <tr>\n",
       "      <th>557</th>\n",
       "      <td>TN</td>\n",
       "      <td>Namakkal</td>\n",
       "      <td>1721179</td>\n",
       "      <td>43</td>\n",
       "      <td>0</td>\n",
       "      <td>51</td>\n",
       "      <td>0</td>\n",
       "      <td>168</td>\n",
       "      <td>442</td>\n",
       "    </tr>\n",
       "    <tr>\n",
       "      <th>504</th>\n",
       "      <td>RJ</td>\n",
       "      <td>Sirohi</td>\n",
       "      <td>1037185</td>\n",
       "      <td>0</td>\n",
       "      <td>0</td>\n",
       "      <td>0</td>\n",
       "      <td>0</td>\n",
       "      <td>480</td>\n",
       "      <td>589</td>\n",
       "    </tr>\n",
       "    <tr>\n",
       "      <th>434</th>\n",
       "      <td>OR</td>\n",
       "      <td>Kandhamal</td>\n",
       "      <td>731952</td>\n",
       "      <td>0</td>\n",
       "      <td>0</td>\n",
       "      <td>0</td>\n",
       "      <td>0</td>\n",
       "      <td>847</td>\n",
       "      <td>529</td>\n",
       "    </tr>\n",
       "  </tbody>\n",
       "</table>\n",
       "</div>"
      ],
      "text/plain": [
       "    State          District  Population Confirmed Deceased Recovered Tested  \\\n",
       "678    WB  Dakshin Dinajpur     1670931        14        0        16      0   \n",
       "235    JK             Punch      476820         0        0         0      0   \n",
       "210    JH           Jamtara      790207         0        0         0      0   \n",
       "443    OR              Puri     1697983        15        1         7      0   \n",
       "92     BR         Sitamarhi     3419622         0        0         0      0   \n",
       "420    OR             Angul     1271703         1        0         3      0   \n",
       "666    UT          Haridwar     1927029         1        0         0      0   \n",
       "557    TN          Namakkal     1721179        43        0        51      0   \n",
       "504    RJ            Sirohi     1037185         0        0         0      0   \n",
       "434    OR         Kandhamal      731952         0        0         0      0   \n",
       "\n",
       "    Vaccinated1 Vaccinated2  \n",
       "678         724         998  \n",
       "235          45        3190  \n",
       "210         973        1373  \n",
       "443        2991        6548  \n",
       "92         3873        5476  \n",
       "420           9          38  \n",
       "666         224        1907  \n",
       "557         168         442  \n",
       "504         480         589  \n",
       "434         847         529  "
      ]
     },
     "execution_count": 28,
     "metadata": {},
     "output_type": "execute_result"
    }
   ],
   "source": [
    "# creating dataframe of district delta\n",
    "states_district_delta_virus_df = pd.DataFrame(states_district_delta_virus)\n",
    "len(states_district_delta_virus_df)\n",
    "states_district_delta_virus_df.sample(10)"
   ]
  },
  {
   "cell_type": "code",
   "execution_count": 30,
   "id": "960ecaac",
   "metadata": {},
   "outputs": [],
   "source": [
    "# converting to csv district delta\n",
    "states_district_delta_virus_df.to_csv('STATES_DISTRICT_DELTA_VIRUS.csv', index=False)"
   ]
  },
  {
   "cell_type": "markdown",
   "id": "265bdb4f",
   "metadata": {},
   "source": [
    "**<h2>States And Then District Wise Delta7 Virus</h2>**"
   ]
  },
  {
   "cell_type": "code",
   "execution_count": 29,
   "id": "b9d998fa",
   "metadata": {},
   "outputs": [],
   "source": [
    "# loopng through the data for delta7 values for district of states\n",
    "\n",
    "states_district_delta7_virus = []\n",
    "\n",
    "for i in states.keys():\n",
    "    state = i\n",
    "    if state=='TT':\n",
    "        continue\n",
    "    else:\n",
    "        d1 = states[i][\"districts\"]\n",
    "        for j in d1.keys():\n",
    "            district = j\n",
    "            if 'meta' in d1[j]:\n",
    "                if 'population' in d1[j]['meta']: \n",
    "                    population = d1[j]['meta']['population']\n",
    "            if 'delta7' in  d1[j]:\n",
    "                if 'confirmed' in d1[j]['delta7']:\n",
    "                   confirmed= d1[j]['delta7']['confirmed']\n",
    "                else:\n",
    "                    confirmed ='0'\n",
    "                if 'deceased' in d1[j]['delta7']:\n",
    "                   deceased = d1[j]['delta7']['deceased']\n",
    "                else:\n",
    "                    deceased ='0'\n",
    "                if 'recovered' in d1[j]['delta7']:\n",
    "                   recovered = d1[j]['delta7']['recovered']\n",
    "                else:\n",
    "                    recovered ='0'\n",
    "                if 'tested' in d1[j]['delta7']:\n",
    "                   tested = d1[j]['delta7']['tested']\n",
    "                else:\n",
    "                    tested ='0'\n",
    "                if 'vaccinated1' in d1[j]['delta7']:\n",
    "                   vaccinated1 = d1[j]['delta7']['vaccinated1']\n",
    "                else:\n",
    "                    vaccinated1 ='0'\n",
    "                if 'vaccinated2' in d1[j]['delta7']:\n",
    "                   vaccinated2 = d1[j]['delta7']['vaccinated2']\n",
    "                else:\n",
    "                    vaccinated2 ='0'\n",
    "                dict_states_district_delta7_virus = {'State':state, 'District':district,'Population':population,'Confirmed':confirmed, 'Deceased':deceased, 'Recovered':recovered,'Tested':tested,'Vaccinated1':vaccinated1,'Vaccinated2':vaccinated2}\n",
    "                states_district_delta7_virus.append(dict_states_district_delta7_virus)\n"
   ]
  },
  {
   "cell_type": "code",
   "execution_count": 30,
   "id": "0d9af264",
   "metadata": {},
   "outputs": [],
   "source": [
    "# district_delta7"
   ]
  },
  {
   "cell_type": "code",
   "execution_count": 31,
   "id": "11072ec5",
   "metadata": {},
   "outputs": [
    {
     "data": {
      "text/plain": [
       "734"
      ]
     },
     "execution_count": 31,
     "metadata": {},
     "output_type": "execute_result"
    }
   ],
   "source": [
    "# creating dataframe of district delta7\n",
    "states_district_delta7_virus_df = pd.DataFrame(states_district_delta7_virus)\n",
    "len(states_district_delta7_virus_df)"
   ]
  },
  {
   "cell_type": "code",
   "execution_count": 32,
   "id": "dd807fdf",
   "metadata": {},
   "outputs": [
    {
     "data": {
      "text/html": [
       "<div>\n",
       "<style scoped>\n",
       "    .dataframe tbody tr th:only-of-type {\n",
       "        vertical-align: middle;\n",
       "    }\n",
       "\n",
       "    .dataframe tbody tr th {\n",
       "        vertical-align: top;\n",
       "    }\n",
       "\n",
       "    .dataframe thead th {\n",
       "        text-align: right;\n",
       "    }\n",
       "</style>\n",
       "<table border=\"1\" class=\"dataframe\">\n",
       "  <thead>\n",
       "    <tr style=\"text-align: right;\">\n",
       "      <th></th>\n",
       "      <th>State</th>\n",
       "      <th>District</th>\n",
       "      <th>Population</th>\n",
       "      <th>Confirmed</th>\n",
       "      <th>Deceased</th>\n",
       "      <th>Recovered</th>\n",
       "      <th>Tested</th>\n",
       "      <th>Vaccinated1</th>\n",
       "      <th>Vaccinated2</th>\n",
       "    </tr>\n",
       "  </thead>\n",
       "  <tbody>\n",
       "    <tr>\n",
       "      <th>155</th>\n",
       "      <td>GJ</td>\n",
       "      <td>Banaskantha</td>\n",
       "      <td>3116045</td>\n",
       "      <td>0</td>\n",
       "      <td>0</td>\n",
       "      <td>0</td>\n",
       "      <td>0</td>\n",
       "      <td>16080</td>\n",
       "      <td>82985</td>\n",
       "    </tr>\n",
       "    <tr>\n",
       "      <th>272</th>\n",
       "      <td>KA</td>\n",
       "      <td>Chitradurga</td>\n",
       "      <td>1660378</td>\n",
       "      <td>17</td>\n",
       "      <td>0</td>\n",
       "      <td>12</td>\n",
       "      <td>0</td>\n",
       "      <td>45062</td>\n",
       "      <td>47252</td>\n",
       "    </tr>\n",
       "    <tr>\n",
       "      <th>179</th>\n",
       "      <td>GJ</td>\n",
       "      <td>Surat</td>\n",
       "      <td>4996391</td>\n",
       "      <td>38</td>\n",
       "      <td>1</td>\n",
       "      <td>30</td>\n",
       "      <td>0</td>\n",
       "      <td>35083</td>\n",
       "      <td>115694</td>\n",
       "    </tr>\n",
       "    <tr>\n",
       "      <th>85</th>\n",
       "      <td>BR</td>\n",
       "      <td>East Champaran</td>\n",
       "      <td>5082868</td>\n",
       "      <td>2</td>\n",
       "      <td>0</td>\n",
       "      <td>0</td>\n",
       "      <td>0</td>\n",
       "      <td>29316</td>\n",
       "      <td>84760</td>\n",
       "    </tr>\n",
       "    <tr>\n",
       "      <th>399</th>\n",
       "      <td>MP</td>\n",
       "      <td>Khargone</td>\n",
       "      <td>1872413</td>\n",
       "      <td>0</td>\n",
       "      <td>0</td>\n",
       "      <td>0</td>\n",
       "      <td>0</td>\n",
       "      <td>3049</td>\n",
       "      <td>32932</td>\n",
       "    </tr>\n",
       "    <tr>\n",
       "      <th>714</th>\n",
       "      <td>WB</td>\n",
       "      <td>Cooch Behar</td>\n",
       "      <td>2822780</td>\n",
       "      <td>77</td>\n",
       "      <td>0</td>\n",
       "      <td>93</td>\n",
       "      <td>0</td>\n",
       "      <td>122592</td>\n",
       "      <td>26214</td>\n",
       "    </tr>\n",
       "    <tr>\n",
       "      <th>725</th>\n",
       "      <td>WB</td>\n",
       "      <td>Nadia</td>\n",
       "      <td>5168488</td>\n",
       "      <td>302</td>\n",
       "      <td>8</td>\n",
       "      <td>326</td>\n",
       "      <td>0</td>\n",
       "      <td>251739</td>\n",
       "      <td>89327</td>\n",
       "    </tr>\n",
       "    <tr>\n",
       "      <th>647</th>\n",
       "      <td>UP</td>\n",
       "      <td>Etawah</td>\n",
       "      <td>1579160</td>\n",
       "      <td>0</td>\n",
       "      <td>0</td>\n",
       "      <td>0</td>\n",
       "      <td>0</td>\n",
       "      <td>52312</td>\n",
       "      <td>35349</td>\n",
       "    </tr>\n",
       "    <tr>\n",
       "      <th>220</th>\n",
       "      <td>JH</td>\n",
       "      <td>Deoghar</td>\n",
       "      <td>1491879</td>\n",
       "      <td>2</td>\n",
       "      <td>0</td>\n",
       "      <td>1</td>\n",
       "      <td>0</td>\n",
       "      <td>9801</td>\n",
       "      <td>19008</td>\n",
       "    </tr>\n",
       "  </tbody>\n",
       "</table>\n",
       "</div>"
      ],
      "text/plain": [
       "    State        District  Population Confirmed Deceased Recovered Tested  \\\n",
       "155    GJ     Banaskantha     3116045         0        0         0      0   \n",
       "272    KA     Chitradurga     1660378        17        0        12      0   \n",
       "179    GJ           Surat     4996391        38        1        30      0   \n",
       "85     BR  East Champaran     5082868         2        0         0      0   \n",
       "399    MP        Khargone     1872413         0        0         0      0   \n",
       "714    WB     Cooch Behar     2822780        77        0        93      0   \n",
       "725    WB           Nadia     5168488       302        8       326      0   \n",
       "647    UP          Etawah     1579160         0        0         0      0   \n",
       "220    JH         Deoghar     1491879         2        0         1      0   \n",
       "\n",
       "    Vaccinated1 Vaccinated2  \n",
       "155       16080       82985  \n",
       "272       45062       47252  \n",
       "179       35083      115694  \n",
       "85        29316       84760  \n",
       "399        3049       32932  \n",
       "714      122592       26214  \n",
       "725      251739       89327  \n",
       "647       52312       35349  \n",
       "220        9801       19008  "
      ]
     },
     "execution_count": 32,
     "metadata": {},
     "output_type": "execute_result"
    }
   ],
   "source": [
    "states_district_delta7_virus_df.sample(9)"
   ]
  },
  {
   "cell_type": "code",
   "execution_count": 36,
   "id": "f2ef8caf",
   "metadata": {},
   "outputs": [],
   "source": [
    "# converting to csv district delta7\n",
    "states_district_delta7_virus_df.to_csv('STATES_DISTRICT_DELTA7_VIRUS.csv', index=False)"
   ]
  },
  {
   "cell_type": "markdown",
   "id": "b026106f",
   "metadata": {},
   "source": [
    "# **HERE WE ARE DONE WITH THE data.min.json**"
   ]
  },
  {
   "cell_type": "code",
   "execution_count": null,
   "id": "3afaf3fd",
   "metadata": {},
   "outputs": [],
   "source": []
  },
  {
   "cell_type": "code",
   "execution_count": null,
   "id": "fd83e5bc",
   "metadata": {},
   "outputs": [],
   "source": []
  },
  {
   "cell_type": "code",
   "execution_count": null,
   "id": "5b8de726",
   "metadata": {},
   "outputs": [],
   "source": []
  },
  {
   "cell_type": "code",
   "execution_count": null,
   "id": "de0c882f",
   "metadata": {},
   "outputs": [],
   "source": []
  },
  {
   "cell_type": "markdown",
   "id": "5cafba19",
   "metadata": {},
   "source": [
    "    have to continue from here"
   ]
  },
  {
   "cell_type": "markdown",
   "id": "9718ff22",
   "metadata": {},
   "source": [
    "**<h2>TimeSeries Link Data</h2>**"
   ]
  },
  {
   "cell_type": "code",
   "execution_count": 33,
   "id": "8250ecad",
   "metadata": {},
   "outputs": [],
   "source": [
    "#Assigning the link\n",
    "timeseries_min = requests.get('https://data.covid19india.org/v4/min/timeseries.min.json')"
   ]
  },
  {
   "cell_type": "code",
   "execution_count": 34,
   "id": "4c167293",
   "metadata": {},
   "outputs": [
    {
     "data": {
      "text/plain": [
       "<Response [200]>"
      ]
     },
     "execution_count": 34,
     "metadata": {},
     "output_type": "execute_result"
    }
   ],
   "source": [
    "# Creating json\n",
    "timeseries_min"
   ]
  },
  {
   "cell_type": "code",
   "execution_count": 35,
   "id": "b4e21d7f",
   "metadata": {},
   "outputs": [],
   "source": [
    "# Creating json\n",
    "timeseries = timeseries_min.json()"
   ]
  },
  {
   "cell_type": "markdown",
   "id": "e9e584d2",
   "metadata": {},
   "source": [
    "**<h2>Date Aggregation</h2>**"
   ]
  },
  {
   "cell_type": "code",
   "execution_count": 45,
   "id": "0be6f68d",
   "metadata": {},
   "outputs": [
    {
     "name": "stdout",
     "output_type": "stream",
     "text": [
      "Total number of states in data : 38\n"
     ]
    }
   ],
   "source": [
    "print(f'Total number of states in data : {len(timeseries)}')"
   ]
  },
  {
   "cell_type": "code",
   "execution_count": 46,
   "id": "46aaf4b7",
   "metadata": {},
   "outputs": [
    {
     "data": {
      "text/plain": [
       "dict_keys(['AN', 'AP', 'AR', 'AS', 'BR', 'CH', 'CT', 'DL', 'DN', 'GA', 'GJ', 'HP', 'HR', 'JH', 'JK', 'KA', 'KL', 'LA', 'LD', 'MH', 'ML', 'MN', 'MP', 'MZ', 'NL', 'OR', 'PB', 'PY', 'RJ', 'SK', 'TG', 'TN', 'TR', 'TT', 'UN', 'UP', 'UT', 'WB'])"
      ]
     },
     "execution_count": 46,
     "metadata": {},
     "output_type": "execute_result"
    }
   ],
   "source": [
    "#  name of states in timeseries\n",
    "timeseries.keys()"
   ]
  },
  {
   "cell_type": "code",
   "execution_count": 47,
   "id": "c39db9f2",
   "metadata": {},
   "outputs": [],
   "source": [
    "# looping through data to create table like form for TOTAL key of each states date\n",
    "\n",
    "\n",
    "timeseries_date_total = []\n",
    "\n",
    "for i in timeseries.keys():\n",
    "    if i not in ('TT','UN'):\n",
    "        for j in timeseries[i]:\n",
    "            for k in timeseries[i][j]:\n",
    "                state_time = i\n",
    "                date = k\n",
    "                confirmed = 0\n",
    "                recovered = 0\n",
    "                deceased = 0\n",
    "                tested = 0\n",
    "                vaccinated1 = 0\n",
    "                vaccinated2 = 0\n",
    "                if 'total' in timeseries[i][j][k] and i not in ('TT','UN'):\n",
    "                    if 'confirmed' in timeseries[i][j][k]['total']:\n",
    "                        confirmed += int(timeseries[i][j][k]['total']['confirmed'])\n",
    "\n",
    "                    if 'recovered' in timeseries[i][j][k]['total']:\n",
    "                        recovered += int(timeseries[i][j][k]['total']['recovered'])\n",
    "\n",
    "                    if 'deceased' in timeseries[i][j][k]['total']:\n",
    "                        deceased += int(timeseries[i][j][k]['total']['deceased'])\n",
    "\n",
    "                    if 'tested' in timeseries[i][j][k]['total']:\n",
    "                        tested += int(timeseries[i][j][k]['total']['tested'])\n",
    "\n",
    "                    if 'vaccinated1' in timeseries[i][j][k]['total']:\n",
    "                        vaccinated1 += int(timeseries[i][j][k]['total']['vaccinated1'])\n",
    "\n",
    "                    if 'vaccinated2' in timeseries[i][j][k]['total']:\n",
    "                        vaccinated2 += int(timeseries[i][j][k]['total']['vaccinated2'])\n",
    "\n",
    "                    dict_timeseries_date_total = {'state' : state_name_dict[state_time], 'state_short' : state_time, 'date' : date, 'total_confirmed' : confirmed, 'total_recovered' : recovered, 'total_deceased' : deceased, 'total_tested' : tested, 'total_vaccinated_1' : vaccinated1, 'total_vaccinated_2' : vaccinated2}\n",
    "\n",
    "                    timeseries_date_total.append(dict_timeseries_date_total)\n"
   ]
  },
  {
   "cell_type": "code",
   "execution_count": 48,
   "id": "3c4ed0ed",
   "metadata": {},
   "outputs": [
    {
     "data": {
      "text/plain": [
       "21003"
      ]
     },
     "execution_count": 48,
     "metadata": {},
     "output_type": "execute_result"
    },
    {
     "data": {
      "text/html": [
       "<div>\n",
       "<style scoped>\n",
       "    .dataframe tbody tr th:only-of-type {\n",
       "        vertical-align: middle;\n",
       "    }\n",
       "\n",
       "    .dataframe tbody tr th {\n",
       "        vertical-align: top;\n",
       "    }\n",
       "\n",
       "    .dataframe thead th {\n",
       "        text-align: right;\n",
       "    }\n",
       "</style>\n",
       "<table border=\"1\" class=\"dataframe\">\n",
       "  <thead>\n",
       "    <tr style=\"text-align: right;\">\n",
       "      <th></th>\n",
       "      <th>state</th>\n",
       "      <th>state_short</th>\n",
       "      <th>date</th>\n",
       "      <th>total_confirmed</th>\n",
       "      <th>total_recovered</th>\n",
       "      <th>total_deceased</th>\n",
       "      <th>total_tested</th>\n",
       "      <th>total_vaccinated_1</th>\n",
       "      <th>total_vaccinated_2</th>\n",
       "    </tr>\n",
       "  </thead>\n",
       "  <tbody>\n",
       "    <tr>\n",
       "      <th>20995</th>\n",
       "      <td>West Bengal</td>\n",
       "      <td>WB</td>\n",
       "      <td>2021-10-24</td>\n",
       "      <td>1586455</td>\n",
       "      <td>1559518</td>\n",
       "      <td>19055</td>\n",
       "      <td>18928189</td>\n",
       "      <td>52382569</td>\n",
       "      <td>19688135</td>\n",
       "    </tr>\n",
       "    <tr>\n",
       "      <th>20996</th>\n",
       "      <td>West Bengal</td>\n",
       "      <td>WB</td>\n",
       "      <td>2021-10-25</td>\n",
       "      <td>1587260</td>\n",
       "      <td>1560325</td>\n",
       "      <td>19066</td>\n",
       "      <td>18957289</td>\n",
       "      <td>53048088</td>\n",
       "      <td>20047308</td>\n",
       "    </tr>\n",
       "    <tr>\n",
       "      <th>20997</th>\n",
       "      <td>West Bengal</td>\n",
       "      <td>WB</td>\n",
       "      <td>2021-10-26</td>\n",
       "      <td>1588066</td>\n",
       "      <td>1561136</td>\n",
       "      <td>19081</td>\n",
       "      <td>18995979</td>\n",
       "      <td>53668714</td>\n",
       "      <td>20361803</td>\n",
       "    </tr>\n",
       "    <tr>\n",
       "      <th>20998</th>\n",
       "      <td>West Bengal</td>\n",
       "      <td>WB</td>\n",
       "      <td>2021-10-27</td>\n",
       "      <td>1589042</td>\n",
       "      <td>1561973</td>\n",
       "      <td>19096</td>\n",
       "      <td>19039301</td>\n",
       "      <td>53992006</td>\n",
       "      <td>20590859</td>\n",
       "    </tr>\n",
       "    <tr>\n",
       "      <th>20999</th>\n",
       "      <td>West Bengal</td>\n",
       "      <td>WB</td>\n",
       "      <td>2021-10-28</td>\n",
       "      <td>1590032</td>\n",
       "      <td>1562818</td>\n",
       "      <td>19105</td>\n",
       "      <td>19084738</td>\n",
       "      <td>54524323</td>\n",
       "      <td>20878857</td>\n",
       "    </tr>\n",
       "    <tr>\n",
       "      <th>21000</th>\n",
       "      <td>West Bengal</td>\n",
       "      <td>WB</td>\n",
       "      <td>2021-10-29</td>\n",
       "      <td>1591014</td>\n",
       "      <td>1563678</td>\n",
       "      <td>19113</td>\n",
       "      <td>19133755</td>\n",
       "      <td>55226050</td>\n",
       "      <td>21196433</td>\n",
       "    </tr>\n",
       "    <tr>\n",
       "      <th>21001</th>\n",
       "      <td>West Bengal</td>\n",
       "      <td>WB</td>\n",
       "      <td>2021-10-30</td>\n",
       "      <td>1591994</td>\n",
       "      <td>1564558</td>\n",
       "      <td>19126</td>\n",
       "      <td>19180886</td>\n",
       "      <td>55982557</td>\n",
       "      <td>21500866</td>\n",
       "    </tr>\n",
       "    <tr>\n",
       "      <th>21002</th>\n",
       "      <td>West Bengal</td>\n",
       "      <td>WB</td>\n",
       "      <td>2021-10-31</td>\n",
       "      <td>1592908</td>\n",
       "      <td>1565471</td>\n",
       "      <td>19141</td>\n",
       "      <td>19228303</td>\n",
       "      <td>56192166</td>\n",
       "      <td>21559747</td>\n",
       "    </tr>\n",
       "  </tbody>\n",
       "</table>\n",
       "</div>"
      ],
      "text/plain": [
       "             state state_short        date  total_confirmed  total_recovered  \\\n",
       "20995  West Bengal          WB  2021-10-24          1586455          1559518   \n",
       "20996  West Bengal          WB  2021-10-25          1587260          1560325   \n",
       "20997  West Bengal          WB  2021-10-26          1588066          1561136   \n",
       "20998  West Bengal          WB  2021-10-27          1589042          1561973   \n",
       "20999  West Bengal          WB  2021-10-28          1590032          1562818   \n",
       "21000  West Bengal          WB  2021-10-29          1591014          1563678   \n",
       "21001  West Bengal          WB  2021-10-30          1591994          1564558   \n",
       "21002  West Bengal          WB  2021-10-31          1592908          1565471   \n",
       "\n",
       "       total_deceased  total_tested  total_vaccinated_1  total_vaccinated_2  \n",
       "20995           19055      18928189            52382569            19688135  \n",
       "20996           19066      18957289            53048088            20047308  \n",
       "20997           19081      18995979            53668714            20361803  \n",
       "20998           19096      19039301            53992006            20590859  \n",
       "20999           19105      19084738            54524323            20878857  \n",
       "21000           19113      19133755            55226050            21196433  \n",
       "21001           19126      19180886            55982557            21500866  \n",
       "21002           19141      19228303            56192166            21559747  "
      ]
     },
     "execution_count": 48,
     "metadata": {},
     "output_type": "execute_result"
    }
   ],
   "source": [
    "# creating dataframe of date total and viewing\n",
    "timeseries_date_total_df = pd.DataFrame(timeseries_date_total)\n",
    "len(timeseries_date_total_df)\n",
    "timeseries_date_total_df.tail(8)"
   ]
  },
  {
   "cell_type": "code",
   "execution_count": 49,
   "id": "7538c47e",
   "metadata": {},
   "outputs": [],
   "source": [
    "# Converting date total to csv\n",
    "timeseries_date_total_df.to_csv('TIMESERIES_DATE_TOTAL.csv',index = False)"
   ]
  },
  {
   "cell_type": "markdown",
   "id": "3845a957",
   "metadata": {},
   "source": [
    "**<h2>Date Aggregation Delta Virus</h2>**"
   ]
  },
  {
   "cell_type": "code",
   "execution_count": 50,
   "id": "02e0c5a9",
   "metadata": {},
   "outputs": [],
   "source": [
    "# looping through data to create table like form for DELTA key of each states date\n",
    "\n",
    "timeseries_date_total_delta_virus = []\n",
    "\n",
    "for i in timeseries.keys():\n",
    "    for j in timeseries[i]:\n",
    "        for k in timeseries[i][j]:                \n",
    "            state = i\n",
    "            date = k\n",
    "            confirmed = 0\n",
    "            recovered = 0\n",
    "            deceased = 0\n",
    "            tested = 0\n",
    "            vaccinated1 = 0\n",
    "            vaccinated2 = 0\n",
    "            if 'delta' in timeseries[i][j][k] and i not in ('TT','UN'):\n",
    "                if 'confirmed' in timeseries[i][j][k]['delta']:\n",
    "                    confirmed += int(timeseries[i][j][k]['delta']['confirmed'])\n",
    "\n",
    "                if 'recovered' in timeseries[i][j][k]['delta']:\n",
    "                    recovered += int(timeseries[i][j][k]['delta']['recovered'])\n",
    "\n",
    "                if 'deceased' in timeseries[i][j][k]['delta']:\n",
    "                    deceased += int(timeseries[i][j][k]['delta']['deceased'])\n",
    "\n",
    "                if 'tested' in timeseries[i][j][k]['delta']:\n",
    "                    tested += int(timeseries[i][j][k]['delta']['tested'])\n",
    "\n",
    "                if 'vaccinated1' in timeseries[i][j][k]['delta']:\n",
    "                    vaccinated1 += int(timeseries[i][j][k]['delta']['vaccinated1'])\n",
    "                    \n",
    "                if 'vaccinated2' in timeseries[i][j][k]['delta']:\n",
    "                    vaccinated2 += int(timeseries[i][j][k]['delta']['vaccinated2'])\n",
    "\n",
    "                dict_timeseries_date_total_delta_virus = {'state' : state_name_dict[state], 'state_short' : state, 'date' : date, 'delta_confirmed' : confirmed, 'delta_recovered' : recovered, 'delta_deceased' : deceased, 'delta_tested' : tested, 'delta_vaccinated_1' : vaccinated1, 'delta_vaccinated_2' : vaccinated2}\n",
    "\n",
    "                timeseries_date_total_delta_virus.append(dict_timeseries_date_total_delta_virus)    "
   ]
  },
  {
   "cell_type": "code",
   "execution_count": 51,
   "id": "ad2b3e2a",
   "metadata": {},
   "outputs": [
    {
     "data": {
      "text/plain": [
       "20520"
      ]
     },
     "execution_count": 51,
     "metadata": {},
     "output_type": "execute_result"
    },
    {
     "data": {
      "text/html": [
       "<div>\n",
       "<style scoped>\n",
       "    .dataframe tbody tr th:only-of-type {\n",
       "        vertical-align: middle;\n",
       "    }\n",
       "\n",
       "    .dataframe tbody tr th {\n",
       "        vertical-align: top;\n",
       "    }\n",
       "\n",
       "    .dataframe thead th {\n",
       "        text-align: right;\n",
       "    }\n",
       "</style>\n",
       "<table border=\"1\" class=\"dataframe\">\n",
       "  <thead>\n",
       "    <tr style=\"text-align: right;\">\n",
       "      <th></th>\n",
       "      <th>state</th>\n",
       "      <th>state_short</th>\n",
       "      <th>date</th>\n",
       "      <th>delta_confirmed</th>\n",
       "      <th>delta_recovered</th>\n",
       "      <th>delta_deceased</th>\n",
       "      <th>delta_tested</th>\n",
       "      <th>delta_vaccinated_1</th>\n",
       "      <th>delta_vaccinated_2</th>\n",
       "    </tr>\n",
       "  </thead>\n",
       "  <tbody>\n",
       "    <tr>\n",
       "      <th>718</th>\n",
       "      <td>Andhra Pradesh</td>\n",
       "      <td>AP</td>\n",
       "      <td>2020-08-31</td>\n",
       "      <td>10004</td>\n",
       "      <td>8772</td>\n",
       "      <td>85</td>\n",
       "      <td>56490</td>\n",
       "      <td>0</td>\n",
       "      <td>0</td>\n",
       "    </tr>\n",
       "    <tr>\n",
       "      <th>3116</th>\n",
       "      <td>Chandigarh</td>\n",
       "      <td>CH</td>\n",
       "      <td>2020-11-30</td>\n",
       "      <td>67</td>\n",
       "      <td>144</td>\n",
       "      <td>1</td>\n",
       "      <td>710</td>\n",
       "      <td>0</td>\n",
       "      <td>0</td>\n",
       "    </tr>\n",
       "    <tr>\n",
       "      <th>2281</th>\n",
       "      <td>Assam</td>\n",
       "      <td>AS</td>\n",
       "      <td>2021-10-30</td>\n",
       "      <td>283</td>\n",
       "      <td>371</td>\n",
       "      <td>4</td>\n",
       "      <td>39808</td>\n",
       "      <td>46507</td>\n",
       "      <td>128621</td>\n",
       "    </tr>\n",
       "  </tbody>\n",
       "</table>\n",
       "</div>"
      ],
      "text/plain": [
       "               state state_short        date  delta_confirmed  \\\n",
       "718   Andhra Pradesh          AP  2020-08-31            10004   \n",
       "3116      Chandigarh          CH  2020-11-30               67   \n",
       "2281           Assam          AS  2021-10-30              283   \n",
       "\n",
       "      delta_recovered  delta_deceased  delta_tested  delta_vaccinated_1  \\\n",
       "718              8772              85         56490                   0   \n",
       "3116              144               1           710                   0   \n",
       "2281              371               4         39808               46507   \n",
       "\n",
       "      delta_vaccinated_2  \n",
       "718                    0  \n",
       "3116                   0  \n",
       "2281              128621  "
      ]
     },
     "execution_count": 51,
     "metadata": {},
     "output_type": "execute_result"
    }
   ],
   "source": [
    "# creating dataframe of date total and viewing\n",
    "timeseries_date_total_delta_virus_df = pd.DataFrame(timeseries_date_total_delta_virus)\n",
    "len(timeseries_date_total_delta_virus_df)\n",
    "timeseries_date_total_delta_virus_df.sample(3)"
   ]
  },
  {
   "cell_type": "code",
   "execution_count": 52,
   "id": "4b445a72",
   "metadata": {},
   "outputs": [],
   "source": [
    "# Converting date total to csv\n",
    "timeseries_date_total_delta_virus_df.to_csv('TIMESERIES_DATE_TOTAL_DELTA_VIRUS.csv',index = False)"
   ]
  },
  {
   "cell_type": "markdown",
   "id": "1768b972",
   "metadata": {},
   "source": [
    "**<h2>Date Aggregation Delta7 Virus</h2>**"
   ]
  },
  {
   "cell_type": "code",
   "execution_count": 53,
   "id": "756bff26",
   "metadata": {},
   "outputs": [],
   "source": [
    "# looping through data to create table like form for DELTA key of each states date\n",
    "\n",
    "timeseries_date_total_delta7_virus = []\n",
    "\n",
    "for i in timeseries.keys():\n",
    "    for j in timeseries[i]:\n",
    "        for k in timeseries[i][j]:                \n",
    "            state = i\n",
    "            date = k\n",
    "            confirmed = 0\n",
    "            recovered = 0\n",
    "            deceased = 0\n",
    "            tested = 0\n",
    "            vaccinated1 = 0\n",
    "            vaccinated2 = 0\n",
    "            if 'delta7' in timeseries[i][j][k] and i not in ('TT','UN'):\n",
    "                if 'confirmed' in timeseries[i][j][k]['delta7']:\n",
    "                    confirmed += int(timeseries[i][j][k]['delta7']['confirmed'])\n",
    "\n",
    "                if 'recovered' in timeseries[i][j][k]['delta7']:\n",
    "                    recovered += int(timeseries[i][j][k]['delta7']['recovered'])\n",
    "\n",
    "                if 'deceased' in timeseries[i][j][k]['delta7']:\n",
    "                    deceased += int(timeseries[i][j][k]['delta7']['deceased'])\n",
    "\n",
    "                if 'tested' in timeseries[i][j][k]['delta7']:\n",
    "                    tested += int(timeseries[i][j][k]['delta7']['tested'])\n",
    "\n",
    "                if 'vaccinated1' in timeseries[i][j][k]['delta7']:\n",
    "                    vaccinated1 += int(timeseries[i][j][k]['delta7']['vaccinated1'])\n",
    "                    \n",
    "                if 'vaccinated2' in timeseries[i][j][k]['delta7']:\n",
    "                    vaccinated2 += int(timeseries[i][j][k]['delta7']['vaccinated2'])\n",
    "\n",
    "                dict_timeseries_date_total_delta7_virus = {'state' : state_name_dict[state], 'state_short' : state, 'date' : date, 'delta_confirmed' : confirmed, 'delta_recovered' : recovered, 'delta_deceased' : deceased, 'delta_tested' : tested, 'delta_vaccinated_1' : vaccinated1, 'delta_vaccinated_2' : vaccinated2}\n",
    "\n",
    "                timeseries_date_total_delta7_virus.append(dict_timeseries_date_total_delta7_virus)    "
   ]
  },
  {
   "cell_type": "code",
   "execution_count": 54,
   "id": "dd74b0f3",
   "metadata": {},
   "outputs": [
    {
     "data": {
      "text/plain": [
       "20953"
      ]
     },
     "execution_count": 54,
     "metadata": {},
     "output_type": "execute_result"
    },
    {
     "data": {
      "text/html": [
       "<div>\n",
       "<style scoped>\n",
       "    .dataframe tbody tr th:only-of-type {\n",
       "        vertical-align: middle;\n",
       "    }\n",
       "\n",
       "    .dataframe tbody tr th {\n",
       "        vertical-align: top;\n",
       "    }\n",
       "\n",
       "    .dataframe thead th {\n",
       "        text-align: right;\n",
       "    }\n",
       "</style>\n",
       "<table border=\"1\" class=\"dataframe\">\n",
       "  <thead>\n",
       "    <tr style=\"text-align: right;\">\n",
       "      <th></th>\n",
       "      <th>state</th>\n",
       "      <th>state_short</th>\n",
       "      <th>date</th>\n",
       "      <th>delta_confirmed</th>\n",
       "      <th>delta_recovered</th>\n",
       "      <th>delta_deceased</th>\n",
       "      <th>delta_tested</th>\n",
       "      <th>delta_vaccinated_1</th>\n",
       "      <th>delta_vaccinated_2</th>\n",
       "    </tr>\n",
       "  </thead>\n",
       "  <tbody>\n",
       "    <tr>\n",
       "      <th>0</th>\n",
       "      <td>Andaman and Nicobar Islands</td>\n",
       "      <td>AN</td>\n",
       "      <td>2020-03-26</td>\n",
       "      <td>1</td>\n",
       "      <td>0</td>\n",
       "      <td>0</td>\n",
       "      <td>0</td>\n",
       "      <td>0</td>\n",
       "      <td>0</td>\n",
       "    </tr>\n",
       "    <tr>\n",
       "      <th>1</th>\n",
       "      <td>Andaman and Nicobar Islands</td>\n",
       "      <td>AN</td>\n",
       "      <td>2020-03-27</td>\n",
       "      <td>6</td>\n",
       "      <td>0</td>\n",
       "      <td>0</td>\n",
       "      <td>0</td>\n",
       "      <td>0</td>\n",
       "      <td>0</td>\n",
       "    </tr>\n",
       "    <tr>\n",
       "      <th>2</th>\n",
       "      <td>Andaman and Nicobar Islands</td>\n",
       "      <td>AN</td>\n",
       "      <td>2020-03-28</td>\n",
       "      <td>9</td>\n",
       "      <td>0</td>\n",
       "      <td>0</td>\n",
       "      <td>0</td>\n",
       "      <td>0</td>\n",
       "      <td>0</td>\n",
       "    </tr>\n",
       "    <tr>\n",
       "      <th>3</th>\n",
       "      <td>Andaman and Nicobar Islands</td>\n",
       "      <td>AN</td>\n",
       "      <td>2020-03-29</td>\n",
       "      <td>9</td>\n",
       "      <td>0</td>\n",
       "      <td>0</td>\n",
       "      <td>0</td>\n",
       "      <td>0</td>\n",
       "      <td>0</td>\n",
       "    </tr>\n",
       "    <tr>\n",
       "      <th>4</th>\n",
       "      <td>Andaman and Nicobar Islands</td>\n",
       "      <td>AN</td>\n",
       "      <td>2020-03-30</td>\n",
       "      <td>10</td>\n",
       "      <td>0</td>\n",
       "      <td>0</td>\n",
       "      <td>0</td>\n",
       "      <td>0</td>\n",
       "      <td>0</td>\n",
       "    </tr>\n",
       "    <tr>\n",
       "      <th>5</th>\n",
       "      <td>Andaman and Nicobar Islands</td>\n",
       "      <td>AN</td>\n",
       "      <td>2020-03-31</td>\n",
       "      <td>10</td>\n",
       "      <td>0</td>\n",
       "      <td>0</td>\n",
       "      <td>0</td>\n",
       "      <td>0</td>\n",
       "      <td>0</td>\n",
       "    </tr>\n",
       "    <tr>\n",
       "      <th>6</th>\n",
       "      <td>Andaman and Nicobar Islands</td>\n",
       "      <td>AN</td>\n",
       "      <td>2020-04-01</td>\n",
       "      <td>10</td>\n",
       "      <td>0</td>\n",
       "      <td>0</td>\n",
       "      <td>0</td>\n",
       "      <td>0</td>\n",
       "      <td>0</td>\n",
       "    </tr>\n",
       "    <tr>\n",
       "      <th>7</th>\n",
       "      <td>Andaman and Nicobar Islands</td>\n",
       "      <td>AN</td>\n",
       "      <td>2020-04-02</td>\n",
       "      <td>9</td>\n",
       "      <td>0</td>\n",
       "      <td>0</td>\n",
       "      <td>0</td>\n",
       "      <td>0</td>\n",
       "      <td>0</td>\n",
       "    </tr>\n",
       "  </tbody>\n",
       "</table>\n",
       "</div>"
      ],
      "text/plain": [
       "                         state state_short        date  delta_confirmed  \\\n",
       "0  Andaman and Nicobar Islands          AN  2020-03-26                1   \n",
       "1  Andaman and Nicobar Islands          AN  2020-03-27                6   \n",
       "2  Andaman and Nicobar Islands          AN  2020-03-28                9   \n",
       "3  Andaman and Nicobar Islands          AN  2020-03-29                9   \n",
       "4  Andaman and Nicobar Islands          AN  2020-03-30               10   \n",
       "5  Andaman and Nicobar Islands          AN  2020-03-31               10   \n",
       "6  Andaman and Nicobar Islands          AN  2020-04-01               10   \n",
       "7  Andaman and Nicobar Islands          AN  2020-04-02                9   \n",
       "\n",
       "   delta_recovered  delta_deceased  delta_tested  delta_vaccinated_1  \\\n",
       "0                0               0             0                   0   \n",
       "1                0               0             0                   0   \n",
       "2                0               0             0                   0   \n",
       "3                0               0             0                   0   \n",
       "4                0               0             0                   0   \n",
       "5                0               0             0                   0   \n",
       "6                0               0             0                   0   \n",
       "7                0               0             0                   0   \n",
       "\n",
       "   delta_vaccinated_2  \n",
       "0                   0  \n",
       "1                   0  \n",
       "2                   0  \n",
       "3                   0  \n",
       "4                   0  \n",
       "5                   0  \n",
       "6                   0  \n",
       "7                   0  "
      ]
     },
     "execution_count": 54,
     "metadata": {},
     "output_type": "execute_result"
    }
   ],
   "source": [
    "# creating dataframe of date total and viewing\n",
    "timeseries_date_total_delta7_virus_df = pd.DataFrame(timeseries_date_total_delta7_virus)\n",
    "len(timeseries_date_total_delta7_virus_df)\n",
    "timeseries_date_total_delta7_virus_df.head(8)"
   ]
  },
  {
   "cell_type": "code",
   "execution_count": 55,
   "id": "e28d535a",
   "metadata": {},
   "outputs": [],
   "source": [
    "# Converting date total to csv\n",
    "timeseries_date_total_delta7_virus_df.to_csv('TIMESERIES_DATE_TOTAL_DELTA7_VIRUS.csv',index = False)"
   ]
  },
  {
   "cell_type": "markdown",
   "id": "3cafb4de",
   "metadata": {},
   "source": [
    "- <h1>DATAFRAME PART COMPLETED</h1>"
   ]
  },
  {
   "cell_type": "code",
   "execution_count": null,
   "id": "7e13b224",
   "metadata": {},
   "outputs": [],
   "source": []
  }
 ],
 "metadata": {
  "kernelspec": {
   "display_name": "Python 3 (ipykernel)",
   "language": "python",
   "name": "python3"
  },
  "language_info": {
   "codemirror_mode": {
    "name": "ipython",
    "version": 3
   },
   "file_extension": ".py",
   "mimetype": "text/x-python",
   "name": "python",
   "nbconvert_exporter": "python",
   "pygments_lexer": "ipython3",
   "version": "3.10.11"
  }
 },
 "nbformat": 4,
 "nbformat_minor": 5
}
